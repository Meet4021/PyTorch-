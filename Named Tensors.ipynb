{
 "cells": [
  {
   "cell_type": "markdown",
   "metadata": {},
   "source": [
    "# Name Tensors"
   ]
  },
  {
   "cell_type": "code",
   "execution_count": 1,
   "metadata": {},
   "outputs": [],
   "source": [
    "import torch"
   ]
  },
  {
   "cell_type": "code",
   "execution_count": 2,
   "metadata": {},
   "outputs": [
    {
     "name": "stdout",
     "output_type": "stream",
     "text": [
      "tensor([[0., 0., 0.],\n",
      "        [0., 0., 0.]])\n"
     ]
    }
   ],
   "source": [
    "a = torch.zeros(2,3)\n",
    "print(a)"
   ]
  },
  {
   "cell_type": "code",
   "execution_count": 3,
   "metadata": {},
   "outputs": [
    {
     "data": {
      "text/plain": [
       "torch.Tensor"
      ]
     },
     "execution_count": 3,
     "metadata": {},
     "output_type": "execute_result"
    }
   ],
   "source": [
    "type(a)"
   ]
  },
  {
   "cell_type": "code",
   "execution_count": 4,
   "metadata": {},
   "outputs": [
    {
     "data": {
      "text/plain": [
       "torch.Size([2, 3])"
      ]
     },
     "execution_count": 4,
     "metadata": {},
     "output_type": "execute_result"
    }
   ],
   "source": [
    "a.size()"
   ]
  },
  {
   "cell_type": "code",
   "execution_count": 5,
   "metadata": {},
   "outputs": [
    {
     "data": {
      "text/plain": [
       "2"
      ]
     },
     "execution_count": 5,
     "metadata": {},
     "output_type": "execute_result"
    }
   ],
   "source": [
    "a.dim()"
   ]
  },
  {
   "cell_type": "code",
   "execution_count": 9,
   "metadata": {},
   "outputs": [
    {
     "name": "stdout",
     "output_type": "stream",
     "text": [
      "tensor([[0., 0., 0.],\n",
      "        [0., 0., 0.]], names=('Rows', 'Columns'))\n"
     ]
    },
    {
     "name": "stderr",
     "output_type": "stream",
     "text": [
      "<ipython-input-9-cca6ea9e5bb1>:1: UserWarning: Named tensors and all their associated APIs are an experimental feature and subject to change. Please do not use them for anything important until they are released as stable. (Triggered internally at  ..\\c10/core/TensorImpl.h:840.)\n",
      "  n = torch.zeros(2,3, names = (\"Rows\", \"Columns\"))\n"
     ]
    }
   ],
   "source": [
    "n = torch.zeros(2,3, names = (\"Rows\", \"Columns\"))\n",
    "print(n)"
   ]
  },
  {
   "cell_type": "code",
   "execution_count": 10,
   "metadata": {},
   "outputs": [
    {
     "data": {
      "text/plain": [
       "('Rows', 'Columns')"
      ]
     },
     "execution_count": 10,
     "metadata": {},
     "output_type": "execute_result"
    }
   ],
   "source": [
    "n.names"
   ]
  },
  {
   "cell_type": "code",
   "execution_count": 11,
   "metadata": {},
   "outputs": [
    {
     "data": {
      "text/plain": [
       "'Rows'"
      ]
     },
     "execution_count": 11,
     "metadata": {},
     "output_type": "execute_result"
    }
   ],
   "source": [
    "n.names[0]"
   ]
  },
  {
   "cell_type": "code",
   "execution_count": 12,
   "metadata": {},
   "outputs": [
    {
     "data": {
      "text/plain": [
       "'Columns'"
      ]
     },
     "execution_count": 12,
     "metadata": {},
     "output_type": "execute_result"
    }
   ],
   "source": [
    "n.names[1]"
   ]
  },
  {
   "cell_type": "code",
   "execution_count": 14,
   "metadata": {},
   "outputs": [
    {
     "name": "stdout",
     "output_type": "stream",
     "text": [
      "tensor([[0., 0., 0.],\n",
      "        [0., 0., 0.]], names=('A', 'B'))\n"
     ]
    }
   ],
   "source": [
    "renamed = n.rename(Rows = \"A\", Columns = \"B\")\n",
    "print(renamed)"
   ]
  },
  {
   "cell_type": "code",
   "execution_count": 16,
   "metadata": {},
   "outputs": [
    {
     "name": "stdout",
     "output_type": "stream",
     "text": [
      "tensor([[[[[-1.6031,  0.5479,  0.2312,  2.2533,  0.0409],\n",
      "           [-0.5940,  1.0903,  0.2583,  0.9037,  0.0577],\n",
      "           [ 0.7309,  0.0680, -0.2197, -0.3273, -0.1209],\n",
      "           [-0.3619,  1.3958,  0.9220, -0.6949,  0.1018]],\n",
      "\n",
      "          [[-0.3827,  0.1422, -0.7287,  0.0913,  1.1260],\n",
      "           [ 0.8961, -0.9059,  2.4345,  1.3697,  0.7193],\n",
      "           [-0.0985,  0.4192,  0.9641, -1.1736,  0.6813],\n",
      "           [ 0.8150,  1.6019,  0.8794,  0.0086, -1.3826]],\n",
      "\n",
      "          [[-1.0404,  0.8064,  0.1203, -1.7712, -0.6245],\n",
      "           [ 0.1585, -1.1761, -0.5640,  0.8957, -0.3529],\n",
      "           [-1.0343,  2.2701,  0.4351,  1.0049,  0.3052],\n",
      "           [ 1.5349, -1.5456,  0.5438, -0.1656, -0.1932]]],\n",
      "\n",
      "\n",
      "         [[[ 0.9809, -2.2246,  0.0329,  0.1485,  0.1595],\n",
      "           [ 0.5146,  0.1709,  0.0226,  1.1403, -0.7939],\n",
      "           [ 0.4036, -0.4859,  1.0370,  0.2713, -0.1112],\n",
      "           [ 0.3555,  0.9376, -0.2959,  1.8422, -1.1384]],\n",
      "\n",
      "          [[-0.1667,  1.4977,  0.5386,  0.2106,  0.3669],\n",
      "           [ 0.8827, -0.6919,  2.8997, -0.7848,  2.1021],\n",
      "           [-0.2435, -0.1489, -0.9280, -0.7200,  2.1456],\n",
      "           [ 1.2696,  0.3869, -1.1884,  0.3463, -0.5355]],\n",
      "\n",
      "          [[ 1.5270,  1.0036, -0.0996,  2.1796,  0.7812],\n",
      "           [ 0.1694, -0.0217,  2.0641, -0.1822,  0.3347],\n",
      "           [ 0.9107, -0.1117, -0.0733, -0.3753, -1.0969],\n",
      "           [-0.5827, -1.0492, -0.2068, -0.9227,  0.9998]]]]],\n",
      "       names=(None, 'A', None, 'C', 'D'))\n"
     ]
    }
   ],
   "source": [
    "x = torch.randn(1,2,3,4,5, names = (None, \"A\", None, \"C\", \"D\"))\n",
    "print(x)"
   ]
  },
  {
   "cell_type": "code",
   "execution_count": 17,
   "metadata": {},
   "outputs": [
    {
     "data": {
      "text/plain": [
       "(None, 'A', None, 'C', 'D')"
      ]
     },
     "execution_count": 17,
     "metadata": {},
     "output_type": "execute_result"
    }
   ],
   "source": [
    "x.names"
   ]
  },
  {
   "cell_type": "code",
   "execution_count": 20,
   "metadata": {},
   "outputs": [],
   "source": [
    "a = torch.randn(4, names=('X',))\n",
    "b = torch.randn(4)\n",
    "c = torch.randn(4, names=('Y',))"
   ]
  },
  {
   "cell_type": "code",
   "execution_count": 21,
   "metadata": {},
   "outputs": [
    {
     "name": "stdout",
     "output_type": "stream",
     "text": [
      "tensor([-1.2422, -0.9133, -0.0088, -1.0664], names=('X',))\n"
     ]
    }
   ],
   "source": [
    "print(a)"
   ]
  },
  {
   "cell_type": "code",
   "execution_count": 22,
   "metadata": {},
   "outputs": [
    {
     "name": "stdout",
     "output_type": "stream",
     "text": [
      "tensor([-1.3006, -0.2466,  0.2343,  0.3148])\n"
     ]
    }
   ],
   "source": [
    "print(b)"
   ]
  },
  {
   "cell_type": "code",
   "execution_count": 23,
   "metadata": {},
   "outputs": [
    {
     "name": "stdout",
     "output_type": "stream",
     "text": [
      "tensor([-0.4630,  0.4062,  1.0376, -0.2951], names=('Y',))\n"
     ]
    }
   ],
   "source": [
    "print(c)"
   ]
  },
  {
   "cell_type": "code",
   "execution_count": 24,
   "metadata": {},
   "outputs": [
    {
     "name": "stdout",
     "output_type": "stream",
     "text": [
      "tensor([-2.5428, -1.1600,  0.2255, -0.7516], names=('X',))\n"
     ]
    }
   ],
   "source": [
    "print(a+b)"
   ]
  },
  {
   "cell_type": "code",
   "execution_count": 25,
   "metadata": {},
   "outputs": [
    {
     "ename": "RuntimeError",
     "evalue": "Error when attempting to broadcast dims ['X'] and dims ['Y']: dim 'X' and dim 'Y' are at the same position from the right but do not match.",
     "output_type": "error",
     "traceback": [
      "\u001b[1;31m---------------------------------------------------------------------------\u001b[0m",
      "\u001b[1;31mRuntimeError\u001b[0m                              Traceback (most recent call last)",
      "\u001b[1;32m<ipython-input-25-29620a3af8d7>\u001b[0m in \u001b[0;36m<module>\u001b[1;34m\u001b[0m\n\u001b[1;32m----> 1\u001b[1;33m \u001b[0mprint\u001b[0m\u001b[1;33m(\u001b[0m\u001b[0ma\u001b[0m\u001b[1;33m+\u001b[0m\u001b[0mc\u001b[0m\u001b[1;33m)\u001b[0m\u001b[1;33m\u001b[0m\u001b[1;33m\u001b[0m\u001b[0m\n\u001b[0m",
      "\u001b[1;31mRuntimeError\u001b[0m: Error when attempting to broadcast dims ['X'] and dims ['Y']: dim 'X' and dim 'Y' are at the same position from the right but do not match."
     ]
    }
   ],
   "source": [
    "print(a+c)"
   ]
  },
  {
   "cell_type": "code",
   "execution_count": null,
   "metadata": {},
   "outputs": [],
   "source": []
  }
 ],
 "metadata": {
  "kernelspec": {
   "display_name": "Python 3",
   "language": "python",
   "name": "python3"
  },
  "language_info": {
   "codemirror_mode": {
    "name": "ipython",
    "version": 3
   },
   "file_extension": ".py",
   "mimetype": "text/x-python",
   "name": "python",
   "nbconvert_exporter": "python",
   "pygments_lexer": "ipython3",
   "version": "3.8.3"
  }
 },
 "nbformat": 4,
 "nbformat_minor": 4
}
